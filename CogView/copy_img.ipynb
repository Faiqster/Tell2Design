{
 "cells": [
  {
   "cell_type": "code",
   "execution_count": 2,
   "metadata": {},
   "outputs": [],
   "source": [
    "import glob\n",
    "import shutil\n",
    "import os\n",
    "import cv2\n",
    "from tqdm import tqdm"
   ]
  },
  {
   "cell_type": "code",
   "execution_count": 1,
   "metadata": {},
   "outputs": [],
   "source": [
    "dir_paths = []\n",
    "for root, dirs, files in os.walk('./samples_text2image/eval_set_human_only/'):\n",
    "    dir_paths.extend(dirs)"
   ]
  },
  {
   "cell_type": "code",
   "execution_count": 3,
   "metadata": {},
   "outputs": [
    {
     "name": "stderr",
     "output_type": "stream",
     "text": [
      "100%|██████████| 1891/1891 [00:00<00:00, 8434.97it/s]\n"
     ]
    }
   ],
   "source": [
    "for img_id in tqdm(dir_paths):\n",
    "    pred_path = os.path.join(f\"/home/sicong/CogView/samples_text2image/eval_set_human_only/{img_id}/\",\"0.png\")\n",
    "    try:\n",
    "        shutil.copy(pred_path, f'/home/sicong/CogView/samples_text2image/1sample_set/human_only/{img_id}.png')\n",
    "    except FileNotFoundError:\n",
    "        pass"
   ]
  },
  {
   "cell_type": "code",
   "execution_count": null,
   "metadata": {},
   "outputs": [],
   "source": []
  }
 ],
 "metadata": {
  "kernelspec": {
   "display_name": "apex",
   "language": "python",
   "name": "python3"
  },
  "language_info": {
   "codemirror_mode": {
    "name": "ipython",
    "version": 3
   },
   "file_extension": ".py",
   "mimetype": "text/x-python",
   "name": "python",
   "nbconvert_exporter": "python",
   "pygments_lexer": "ipython3",
   "version": "3.7.15"
  },
  "orig_nbformat": 4,
  "vscode": {
   "interpreter": {
    "hash": "d6781b4406bf3e0776b57b4bd7f389d531766a5a8e8ad506f35f7cbc1e475358"
   }
  }
 },
 "nbformat": 4,
 "nbformat_minor": 2
}
