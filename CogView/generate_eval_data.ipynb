{
 "cells": [
  {
   "cell_type": "code",
   "execution_count": 1,
   "metadata": {},
   "outputs": [],
   "source": [
    "import pickle"
   ]
  },
  {
   "cell_type": "code",
   "execution_count": 2,
   "metadata": {},
   "outputs": [],
   "source": [
    "with open(r\"annotated.pkl\", \"rb\") as input_file:\n",
    "   e = pickle.load(input_file)"
   ]
  },
  {
   "cell_type": "code",
   "execution_count": 3,
   "metadata": {},
   "outputs": [
    {
     "data": {
      "text/plain": [
       "2246"
      ]
     },
     "execution_count": 3,
     "metadata": {},
     "output_type": "execute_result"
    }
   ],
   "source": [
    "len(e)"
   ]
  },
  {
   "cell_type": "code",
   "execution_count": 26,
   "metadata": {},
   "outputs": [
    {
     "data": {
      "text/plain": [
       "'Location: The bathroom_1 is on the Eastern side of the floor plan. Relationship: It is exactly to the south of the master room. Size: It is about 10 feet by 13 feet. Location: Bathroom 2 is on the southern part of the floor plan. Relationship: It is between the common room_2 and the kitchen and to the south of the living room. Size: It is about 7 feet by 10 feet. Location: Common room 1 is on the Northern part of the floor plan. Relationship: It is on the west side of the master room. Size: It is about 10 feet by 14 feet. Location: The Common room_2 is on the Southern part of the floor plan. Relationship: It is on the eastern side of the bathroom _2. Size: The room is about 10 feet by 10 feet. Location: The kitchen is on the Southeast side of the floor plan. Relationship: It is on the western side of the bathroom_2. Size: It is about 200 square feet. Location: The living room is on the North Western part of the floor plan. Relationship: It is on the Northern side of the kitchen, common room_2 and the Bathroom_2. Size: The room is about 530 square feet. Location: The master room is on the Northeast side of the plan. Relationship: It is on the eastern side of the common room_1 and to the North of the bathroom_1. Size: It is about 14 feet by 14 feet. '"
      ]
     },
     "execution_count": 26,
     "metadata": {},
     "output_type": "execute_result"
    }
   ],
   "source": [
    "e['79794'].replace(\"\\n\", \"\")"
   ]
  },
  {
   "cell_type": "code",
   "execution_count": 36,
   "metadata": {},
   "outputs": [],
   "source": [
    "file = open('annotated.txt',\"w\")"
   ]
  },
  {
   "cell_type": "code",
   "execution_count": 37,
   "metadata": {},
   "outputs": [],
   "source": [
    "for img in e:\n",
    "    string = e[img].replace(\"\\n\", \"\")\n",
    "    file.write(f\"{img}\\t{string}\"+\"\\n\")"
   ]
  },
  {
   "cell_type": "code",
   "execution_count": 38,
   "metadata": {},
   "outputs": [],
   "source": [
    "with open('annotated.txt', 'r') as fin:\n",
    "    inputs = fin.readlines()"
   ]
  },
  {
   "cell_type": "code",
   "execution_count": 39,
   "metadata": {},
   "outputs": [
    {
     "data": {
      "text/plain": [
       "2246"
      ]
     },
     "execution_count": 39,
     "metadata": {},
     "output_type": "execute_result"
    }
   ],
   "source": [
    "len(inputs)"
   ]
  },
  {
   "cell_type": "code",
   "execution_count": null,
   "metadata": {},
   "outputs": [],
   "source": []
  }
 ],
 "metadata": {
  "kernelspec": {
   "display_name": "Python 3.7.15 ('apex')",
   "language": "python",
   "name": "python3"
  },
  "language_info": {
   "codemirror_mode": {
    "name": "ipython",
    "version": 3
   },
   "file_extension": ".py",
   "mimetype": "text/x-python",
   "name": "python",
   "nbconvert_exporter": "python",
   "pygments_lexer": "ipython3",
   "version": "3.7.15 (default, Nov  7 2022, 22:00:21) \n[GCC 11.2.0]"
  },
  "orig_nbformat": 4,
  "vscode": {
   "interpreter": {
    "hash": "d6781b4406bf3e0776b57b4bd7f389d531766a5a8e8ad506f35f7cbc1e475358"
   }
  }
 },
 "nbformat": 4,
 "nbformat_minor": 2
}
