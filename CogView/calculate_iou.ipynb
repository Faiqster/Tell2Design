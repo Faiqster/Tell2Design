{
 "cells": [
  {
   "cell_type": "code",
   "execution_count": 1,
   "metadata": {},
   "outputs": [],
   "source": [
    "import os"
   ]
  },
  {
   "cell_type": "code",
   "execution_count": 2,
   "metadata": {},
   "outputs": [],
   "source": [
    "import cv2\n",
    "##TODO: 1.cluster predicted images' pixel values to certain pre-defined values\n",
    "# read one image as an example\n",
    "gt_image = cv2.imread(os.path.join(\"/home/sicong/imagen-sicong/dataset/imgs/\",\"6282.png\"))\n",
    "pred_image = cv2.imread(os.path.join(\"/home/sicong/CogView/samples_text2image/exp_140k_itr/718/\",\"3.jpg\"))\n",
    "\n"
   ]
  },
  {
   "cell_type": "code",
   "execution_count": 3,
   "metadata": {},
   "outputs": [
    {
     "data": {
      "text/plain": [
       "array([38, 38, 38], dtype=uint8)"
      ]
     },
     "execution_count": 3,
     "metadata": {},
     "output_type": "execute_result"
    }
   ],
   "source": [
    "pred_image[0,1]"
   ]
  },
  {
   "cell_type": "code",
   "execution_count": 5,
   "metadata": {},
   "outputs": [],
   "source": [
    "from tqdm import tqdm"
   ]
  },
  {
   "cell_type": "code",
   "execution_count": 6,
   "metadata": {},
   "outputs": [],
   "source": [
    "last_5k_type = ['255,255,255', '0,0,0', '0,0,255', '170,232,238', '128,128,240', '230,216,173', '0,215,255', '0,165,255', '35,142,107', '221,160,221', '0,255,255', '214,112,218']\n",
    "last_dict = dict.fromkeys(last_5k_type)\n",
    "for key in last_dict.keys():\n",
    "    last_dict[key] = [int(val) for val in key.split(',')]"
   ]
  },
  {
   "cell_type": "code",
   "execution_count": 7,
   "metadata": {},
   "outputs": [],
   "source": [
    "from scipy.spatial import distance\n",
    "import numpy as np\n",
    "new_image = np.zeros((256,256,3))\n",
    "keys = list(last_dict.keys())\n",
    "for i in range(256):\n",
    "    for j in range(256):\n",
    "        pred_value = list(pred_image[i,j])\n",
    "        distances = [distance.euclidean(pred_value, last_dict[key]) for key in keys]\n",
    "        key_idx = distances.index(min(distances))\n",
    "        new_image[i,j] = np.array(last_dict[keys[key_idx]],dtype=np.uint8)"
   ]
  },
  {
   "cell_type": "code",
   "execution_count": 8,
   "metadata": {},
   "outputs": [
    {
     "data": {
      "text/plain": [
       "True"
      ]
     },
     "execution_count": 8,
     "metadata": {},
     "output_type": "execute_result"
    }
   ],
   "source": [
    "cv2.imwrite('new_img.png', new_image)"
   ]
  },
  {
   "cell_type": "code",
   "execution_count": 9,
   "metadata": {},
   "outputs": [],
   "source": [
    "##TODO: 2.generate room masks according to the refined images\n",
    "def generate_mask(new_image, last_dict):\n",
    "    dict_pred_mask = dict.fromkeys(last_dict.keys())\n",
    "    for key in dict_pred_mask.keys():\n",
    "        dict_pred_mask[key] = np.zeros((256,256))\n",
    "\n",
    "    for key in dict_pred_mask.keys():\n",
    "        for i in range(256):\n",
    "            for j in range(256):\n",
    "                if new_image[i,j,0] == last_dict[key][0] and new_image[i,j,1] == last_dict[key][1] and new_image[i,j,2] == last_dict[key][2]:\n",
    "                    dict_pred_mask[key][i,j] = 1\n",
    "    return dict_pred_mask"
   ]
  },
  {
   "cell_type": "code",
   "execution_count": 10,
   "metadata": {},
   "outputs": [],
   "source": [
    "dict_pred_mask = generate_mask(new_image, last_dict)"
   ]
  },
  {
   "cell_type": "code",
   "execution_count": 11,
   "metadata": {},
   "outputs": [],
   "source": [
    "dict_gt_mask = generate_mask(gt_image, last_dict)"
   ]
  },
  {
   "cell_type": "code",
   "execution_count": 12,
   "metadata": {},
   "outputs": [
    {
     "data": {
      "text/plain": [
       "<matplotlib.image.AxesImage at 0x7f7ebc7145d0>"
      ]
     },
     "execution_count": 12,
     "metadata": {},
     "output_type": "execute_result"
    },
    {
     "data": {
      "image/png": "[encoded data removed]",
      "text/plain": [
       "<Figure size 640x480 with 1 Axes>"
      ]
     },
     "metadata": {},
     "output_type": "display_data"
    }
   ],
   "source": [
    "import matplotlib.pyplot as plt\n",
    "plt.imshow(dict_gt_mask['214,112,218'])"
   ]
  },
  {
   "cell_type": "code",
   "execution_count": 13,
   "metadata": {},
   "outputs": [],
   "source": [
    "def generate_one_dim_mask(dict_pred_mask):\n",
    "    rooms = {'170,232,238':1, '128,128,240':2, '230,216,173':3, '0,215,255':4, '0,165,255':5, '35,142,107':6, '221,160,221':7, '0,255,255':8, '214,112,218':9}\n",
    "    rooms_ = [np.array(room) for room in rooms]\n",
    "    one_dim_pred_mask = np.zeros((256,256))\n",
    "    for room in rooms:\n",
    "        one_dim_pred_mask += rooms[room]*dict_pred_mask[room]\n",
    "    return one_dim_pred_mask"
   ]
  },
  {
   "cell_type": "code",
   "execution_count": 14,
   "metadata": {},
   "outputs": [],
   "source": [
    "one_dim_pred_mask = generate_one_dim_mask(dict_pred_mask)\n",
    "one_dim_gt_mask = generate_one_dim_mask(dict_gt_mask)"
   ]
  },
  {
   "cell_type": "code",
   "execution_count": 15,
   "metadata": {},
   "outputs": [],
   "source": [
    "rooms = ['170,232,238', '128,128,240', '230,216,173', '0,215,255', '0,165,255', '35,142,107', '221,160,221', '0,255,255', '214,112,218']"
   ]
  },
  {
   "cell_type": "code",
   "execution_count": 17,
   "metadata": {},
   "outputs": [],
   "source": [
    "##TODO: 3.find the central point that can maximize the IoU\n",
    "import warnings\n",
    "from sklearn.metrics import jaccard_score\n",
    "from collections import defaultdict\n",
    "warnings.filterwarnings(\"ignore\")\n",
    "rang = 50\n",
    "o_ranges = [i for i in range(0,rang,2)] + [-i for i in range(0,rang,2)]\n",
    "IoUs = defaultdict()\n",
    "for ox in o_ranges:\n",
    "    for oy in o_ranges:\n",
    "        IoUs[(ox,oy)] = np.average(jaccard_score(np.roll(np.roll(one_dim_gt_mask, ox, -1), oy, -2).flatten(), one_dim_pred_mask.flatten(), average=None)[1:])\n",
    "    # print(sum(jaccard_score(one_dim_gt_mask.flatten(), one_dim_pred_mask.flatten(), average=None)[1:]))\n",
    "max_key = max(IoUs, key=IoUs.get)\n"
   ]
  },
  {
   "cell_type": "code",
   "execution_count": 18,
   "metadata": {},
   "outputs": [
    {
     "name": "stdout",
     "output_type": "stream",
     "text": [
      "(6, 14) 0.08940027206679818\n"
     ]
    }
   ],
   "source": [
    "print(max_key,IoUs[max_key])"
   ]
  },
  {
   "cell_type": "code",
   "execution_count": 19,
   "metadata": {},
   "outputs": [
    {
     "name": "stdout",
     "output_type": "stream",
     "text": [
      "0.10151979335616027 0.1430404353068771\n"
     ]
    }
   ],
   "source": [
    "##TODO: 4.calculate the IoU\n",
    "rooms, dict_gt_mask, dict_pred_mask, max_key\n",
    "intersection_union = defaultdict()\n",
    "existed_rooms = []\n",
    "for room in rooms:\n",
    "    if jaccard_score(dict_gt_mask[room].flatten(), dict_gt_mask[room].flatten()) == 1.: # if the room type does not exist in the image\n",
    "        existed_rooms.append(room)\n",
    "        pred_room_mask = dict_pred_mask[room]\n",
    "        gt_room_mask = dict_gt_mask[room]\n",
    "        shift_gt_room_mask = np.roll(np.roll(gt_room_mask, max_key[0], -1), max_key[1], -2)\n",
    "        inter = np.sum(np.logical_and(pred_room_mask, shift_gt_room_mask))\n",
    "        union = np.sum(np.logical_or(pred_room_mask, shift_gt_room_mask))\n",
    "        intersection_union[room] = (inter,union)\n",
    "\n",
    "macro_iou = np.sum([intersection_union[room][0] for room in existed_rooms])/np.sum([intersection_union[room][1] for room in existed_rooms])\n",
    "micro_iou = np.average([intersection_union[room][0]/intersection_union[room][1] for room in existed_rooms])\n",
    "print(macro_iou, micro_iou)"
   ]
  },
  {
   "cell_type": "code",
   "execution_count": null,
   "metadata": {},
   "outputs": [],
   "source": []
  }
 ],
 "metadata": {
  "kernelspec": {
   "display_name": "Python 3.7.15 ('apex')",
   "language": "python",
   "name": "python3"
  },
  "language_info": {
   "codemirror_mode": {
    "name": "ipython",
    "version": 3
   },
   "file_extension": ".py",
   "mimetype": "text/x-python",
   "name": "python",
   "nbconvert_exporter": "python",
   "pygments_lexer": "ipython3",
   "version": "3.7.15 (default, Nov  7 2022, 22:00:21) \n[GCC 11.2.0]"
  },
  "orig_nbformat": 4,
  "vscode": {
   "interpreter": {
    "hash": "d6781b4406bf3e0776b57b4bd7f389d531766a5a8e8ad506f35f7cbc1e475358"
   }
  }
 },
 "nbformat": 4,
 "nbformat_minor": 2
}
