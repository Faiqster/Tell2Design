{
 "cells": [
  {
   "cell_type": "code",
   "execution_count": 1,
   "metadata": {},
   "outputs": [
    {
     "name": "stderr",
     "output_type": "stream",
     "text": [
      "/home/sicong/.conda/envs/apex/lib/python3.7/site-packages/tqdm/auto.py:22: TqdmWarning: IProgress not found. Please update jupyter and ipywidgets. See https://ipywidgets.readthedocs.io/en/stable/user_install.html\n",
      "  from .autonotebook import tqdm as notebook_tqdm\n"
     ]
    }
   ],
   "source": [
    "import pickle\n",
    "import cv2\n",
    "import torch\n",
    "from tqdm import tqdm"
   ]
  },
  {
   "cell_type": "code",
   "execution_count": 41,
   "metadata": {},
   "outputs": [],
   "source": [
    "import cv2\n",
    "import numpy as np\n",
    "from collections import defaultdict\n",
    "\n",
    "def render_image_(example,predicted_boxes,all_gt_rooms,gt_boxes,output_dir):\n",
    "    room_idx = {'living room':0,'living room 1':0,'living room 2':0, 'master room':1, 'kitchen':2, 'bathroom 1':3, 'bathroom 2':3, 'bathroom 3':3, 'dining room':4, 'common room 2':5, 'common room 3':5, 'common room 1':5, 'common room 4':5, 'balcony 1':9\n",
    "            ,'balcony 2':9,'balcony 3':9, 'entrance':10, 'storage':11, 'bathroom': 3, 'balcony': 9, 'common room': 5, 'master room 2': 1, 'master room 1': 1, 'kitchen 1': 2, 'kitchen 2': 2,'master room 3': 1, 'storage room':11}\n",
    "\n",
    "    color_idx = {15:(255,165,0),16:(255,165,0),17:(240,128,128),18:(240,128,128),0:(170,232,238),1:(0,165,255),5:(0,215,255),6:(255,215,0),7:(255,215,0),8:(255,215,0),2:(128,128,240),3:(230,216,173),4:(218,112,214),9:(35,142,107),10:(255,255,0),11:(221,160,221),12:(173,216,230),13:(107,142,35),14:(255,215,0),19:(255,165,0)}     \n",
    "\n",
    "    image_height = 256\n",
    "    image_width = 256\n",
    "    number_of_color_channels = 3\n",
    "    background_color = (255,255,255)\n",
    "    gt_image = np.full((image_height, image_width, number_of_color_channels), background_color, dtype=np.uint8)\n",
    "    predicted_image = np.full((image_height, image_width, number_of_color_channels), background_color, dtype=np.uint8)\n",
    "    boundary_color = [0,0,0]\n",
    "\n",
    "\n",
    "    left_boundary = int(example.boundary_tokens[0]['x_min'])\n",
    "\n",
    "    \n",
    "    living = defaultdict()\n",
    "    common = defaultdict()\n",
    "    master = defaultdict()\n",
    "    balcony = defaultdict()\n",
    "    bathroom = defaultdict()\n",
    "    kitchen = defaultdict()\n",
    "    storage = defaultdict()\n",
    "    dining = defaultdict()\n",
    "    for room in predicted_boxes:\n",
    "        if room.startswith('living'):\n",
    "            living[room] = predicted_boxes[room]\n",
    "        elif room.startswith('common'):\n",
    "            common[room] = predicted_boxes[room]\n",
    "        elif room.startswith('master'):\n",
    "            master[room] = predicted_boxes[room]\n",
    "        elif room.startswith('balcony'):\n",
    "            balcony[room] = predicted_boxes[room]\n",
    "        elif room.startswith('bathroom'):\n",
    "            bathroom[room] = predicted_boxes[room]\n",
    "        elif room.startswith('kitchen'):\n",
    "            kitchen[room] = predicted_boxes[room]\n",
    "        elif room.startswith('storage'):\n",
    "            storage[room] = predicted_boxes[room]\n",
    "        elif room.startswith('dining'):\n",
    "            dining[room] = predicted_boxes[room]\n",
    "    room_type_list = [living,common,master,balcony,bathroom,kitchen,storage,dining]\n",
    "    for room_type in room_type_list:\n",
    "        for room in room_type:\n",
    "            left_top_pr = (room_type[room][0],room_type[room][1])\n",
    "            right_bt_pr = (room_type[room][2],room_type[room][3])\n",
    "\n",
    "            color = color_idx[room_idx[room]] \n",
    "            # draw room on predicted image\n",
    "            cv2.rectangle(predicted_image, left_top_pr, right_bt_pr, color,-1)\n",
    "\n",
    "    for boundary_pixel in example.boundary:\n",
    "        predicted_image[boundary_pixel[0],boundary_pixel[1]] = boundary_color\n",
    "    \n",
    "    \n",
    "    # cv2.putText(predicted_image,\"human\",(10,10),0,0.3,boundary_color)\n",
    "    cv2.imwrite(f'./{output_dir}/{example.image_id}.png', predicted_image)"
   ]
  },
  {
   "cell_type": "code",
   "execution_count": 56,
   "metadata": {},
   "outputs": [],
   "source": [
    "with (open(\"/data/sicong/fp_data/dataset/Text2Design/pickle/Text2Design_artificial_all.pkl\", \"rb\")) as openfile:\n",
    "    data = pickle.load(openfile)"
   ]
  },
  {
   "cell_type": "code",
   "execution_count": 4,
   "metadata": {},
   "outputs": [],
   "source": [
    "room_idx = {0:'living room', 1:'master room', 2:'kitchen', 3:'bathroom', 4:'dining room', 5:'common room', 6:'balcony'\n",
    "            , 7:'entrance', 8:'storage'}\n",
    "idx_room = {v: k for k, v in room_idx.items()}"
   ]
  },
  {
   "cell_type": "code",
   "execution_count": 50,
   "metadata": {},
   "outputs": [
    {
     "data": {
      "text/plain": [
       "2308"
      ]
     },
     "execution_count": 50,
     "metadata": {},
     "output_type": "execute_result"
    }
   ],
   "source": [
    "from glob import glob\n",
    "\n",
    "f = []\n",
    "sub_dirs = glob(\"./data/T2D/gen_masks_2022_12_12_21_18_15/*/\", recursive = True)\n",
    "for i in range(len(sub_dirs)):\n",
    "    f.append(sub_dirs[i].split('/')[-2])\n",
    "len(f)\n"
   ]
  },
  {
   "cell_type": "code",
   "execution_count": 29,
   "metadata": {},
   "outputs": [],
   "source": [
    "# from os import walk\n",
    "\n",
    "# f = []\n",
    "# for (dirpath, dirnames, filenames) in walk('./data/T2D/gen_masks_2022_11_11_17_23_49/'):\n",
    "#     f.extend(dirnames)\n",
    "# len(f)"
   ]
  },
  {
   "cell_type": "code",
   "execution_count": 57,
   "metadata": {},
   "outputs": [
    {
     "name": "stderr",
     "output_type": "stream",
     "text": [
      "100%|██████████| 80788/80788 [00:00<00:00, 329448.94it/s]\n"
     ]
    }
   ],
   "source": [
    "from collections import defaultdict\n",
    "all_data_dict = defaultdict()\n",
    "for i in tqdm(range(len(data))):\n",
    "    sample = data[i]\n",
    "    all_data_dict[sample['image_id'].split('.')[0]] = sample['rooms']"
   ]
  },
  {
   "cell_type": "code",
   "execution_count": 53,
   "metadata": {},
   "outputs": [
    {
     "data": {
      "text/plain": [
       "2308"
      ]
     },
     "execution_count": 53,
     "metadata": {},
     "output_type": "execute_result"
    }
   ],
   "source": [
    "eval_image_id = []\n",
    "for eval_file in f:\n",
    "    eval_image_id.append(eval_file.split('id')[-1])\n",
    "len(eval_image_id)"
   ]
  },
  {
   "cell_type": "code",
   "execution_count": 58,
   "metadata": {},
   "outputs": [],
   "source": [
    "import os\n",
    "import re\n",
    "\n",
    "# if the string ends in digits m will be a Match object, or None otherwise.\n",
    "\n",
    "# generate gt labels\n",
    "for id in eval_image_id:\n",
    "    fp = all_data_dict[id]\n",
    "    if not os.path.exists('gt_boxes/image_id%s'%(id)):\n",
    "        os.makedirs('gt_boxes/image_id%s'%(id))\n",
    "    fout_filename = open('gt_boxes/image_id%s/boxes.txt'%(id), 'w')\n",
    "    for i in range(len(fp)):\n",
    "        # print(fp[i])\n",
    "        room_type = fp[i]['room_type']\n",
    "        m = re.search(r'\\d+$', room_type)\n",
    "        if m is not None:\n",
    "            room_type = \" \".join(room_type.split(\" \")[:-1])\n",
    "        r_idx = idx_room[room_type]\n",
    "        # xmin ymin w h\n",
    "        x = fp[i]['x']\n",
    "        y = fp[i]['y']\n",
    "        w = fp[i]['w']\n",
    "        h = fp[i]['h']\n",
    "        xmin = x - w/2.0\n",
    "        ymin = y - h/2.0\n",
    "        fout_filename.write('%.2f,%.2f,%.2f,%.2f,%s,0\\n'%(xmin, ymin, w, h, r_idx))"
   ]
  },
  {
   "cell_type": "code",
   "execution_count": 13,
   "metadata": {},
   "outputs": [],
   "source": [
    "# calculate IoU id0 as example\n",
    "# load ground truth boxes\n",
    "with open('./gt_boxes/image_id3908/boxes.txt') as f:\n",
    "    lines = f.readlines()\n",
    "    gt_boxes = defaultdict()\n",
    "    for line in lines:\n",
    "        res = line.split(\",\")[:-1]\n",
    "        xmin = float(res[0])\n",
    "        ymin = float(res[1])\n",
    "        w = float(res[2])\n",
    "        h = float(res[3])\n",
    "        r_type = str(res[4])\n",
    "        # gt_box = [  \n",
    "        #     [int(xmin),int(ymin)],[int(xmin+w),int(ymin)],\n",
    "        #     [int(xmin),int(ymin+h)],[int(xmin+w),int(ymin+h)]\n",
    "        # ]\n",
    "        gt_boxes[r_type] = (int(ymin), int(xmin), int(ymin+h), int(xmin+w))\n",
    "f.close()\n",
    "# load predicted boxes\n",
    "with open('./data/T2D/gen_masks_2022_12_12_21_18_15/image_id3908/0/boxes.txt') as f:\n",
    "    lines = f.readlines()\n",
    "    pred_boxes = defaultdict()\n",
    "    for line in lines:\n",
    "        res = line.split(\",\")[:-1]\n",
    "        xmin = float(res[0])\n",
    "        ymin = float(res[1])\n",
    "        w = float(res[2])\n",
    "        h = float(res[3])\n",
    "        r_type = str(res[4])\n",
    "        # gt_box = [  \n",
    "        #     [int(xmin),int(ymin)],[int(xmin+w),int(ymin)],\n",
    "        #     [int(xmin),int(ymin+h)],[int(xmin+w),int(ymin+h)]\n",
    "        # ]\n",
    "        pred_boxes[r_type] = (int(ymin), int(xmin), int(ymin+h), int(xmin+w))\n",
    "f.close()"
   ]
  },
  {
   "cell_type": "code",
   "execution_count": 27,
   "metadata": {},
   "outputs": [],
   "source": [
    "# render image\n",
    "# load ground truth boxes\n",
    "room_idx = {0:'living room', 1:'master room', 2:'kitchen', 3:'bathroom', 4:'dining room', 5:'common room', 6:'balcony'\n",
    "            , 7:'entrance', 8:'storage'}\n",
    "\n",
    "with open('./gt_boxes/image_id3908/boxes.txt') as f:\n",
    "    lines = f.readlines()\n",
    "    gt_boxes = defaultdict()\n",
    "    for line in lines:\n",
    "        res = line.split(\",\")[:-1]\n",
    "        xmin = int(float(res[0]))\n",
    "        ymin = int(float(res[1]))\n",
    "        ymax = int(ymin+float(res[2]))\n",
    "        xmax = int(xmin+float(res[3]))\n",
    "        room = room_idx[int(res[4])]\n",
    "        # gt_box = [  \n",
    "        #     [int(xmin),int(ymin)],[int(xmin+w),int(ymin)],\n",
    "        #     [int(xmin),int(ymin+h)],[int(xmin+w),int(ymin+h)]\n",
    "        # ]\n",
    "        gt_boxes[room] = (int(ymin), int(xmin), int(ymax), int(xmax))\n",
    "        if room in gt_boxes:\n",
    "            if room+' 1' not in gt_boxes:\n",
    "                gt_boxes[room+' 1'] = (ymin, xmin, ymax, xmax)\n",
    "            else:\n",
    "                if room+' 2' not in gt_boxes:\n",
    "                    gt_boxes[room+' 2'] = (ymin, xmin, ymax, xmax)\n",
    "                else:\n",
    "                    if room+' 3' not in gt_boxes:\n",
    "                        gt_boxes[room+' 3'] = (ymin, xmin, ymax, xmax)\n",
    "                    else:\n",
    "                        if room+' 4' not in gt_boxes:\n",
    "                            gt_boxes[room+' 4'] = (ymin, xmin, ymax, xmax)\n",
    "        else:\n",
    "            gt_boxes[room] = (ymin, xmin, ymax, xmax)\n",
    "f.close()\n",
    "# load predicted boxes\n",
    "with open('./data/T2D/gen_masks_2022_12_12_21_18_15/image_id3908/0/boxes.txt') as f:\n",
    "    lines = f.readlines()\n",
    "    pred_boxes = defaultdict()\n",
    "    for line in lines:\n",
    "        res = line.split(\",\")[:-1]\n",
    "        xmin = int(float(res[0]))\n",
    "        ymin = int(float(res[1]))\n",
    "        ymax = int(ymin+float(res[2]))\n",
    "        xmax = int(xmin+float(res[3]))\n",
    "        room = room_idx[int(res[4])]\n",
    "        # gt_box = [  \n",
    "        #     [int(xmin),int(ymin)],[int(xmin+w),int(ymin)],\n",
    "        #     [int(xmin),int(ymin+h)],[int(xmin+w),int(ymin+h)]\n",
    "        # ]\n",
    "        pred_boxes[room] = (int(ymin), int(xmin), int(ymax), int(xmax))\n",
    "        if room in pred_boxes:\n",
    "            if room+' 1' not in pred_boxes:\n",
    "                pred_boxes[room+' 1'] = (ymin, xmin, ymax, xmax)\n",
    "            else:\n",
    "                if room+' 2' not in pred_boxes:\n",
    "                    pred_boxes[room+' 2'] = (ymin, xmin, ymax, xmax)\n",
    "                else:\n",
    "                    if room+' 3' not in pred_boxes:\n",
    "                        pred_boxes[room+' 3'] = (ymin, xmin, ymax, xmax)\n",
    "                    else:\n",
    "                        if room+' 4' not in pred_boxes:\n",
    "                            pred_boxes[room+' 4'] = (ymin, xmin, ymax, xmax)\n",
    "        else:\n",
    "            pred_boxes[room] = (ymin, xmin, ymax, xmax)\n",
    "f.close()"
   ]
  },
  {
   "cell_type": "code",
   "execution_count": 31,
   "metadata": {},
   "outputs": [],
   "source": [
    "import cv2\n",
    "import numpy as np\n",
    "room_idx = {'living room':0,'living room 1':0,'living room 2':0, 'master room':1, 'kitchen':2, 'bathroom 1':3, 'bathroom 2':3, 'bathroom 3':3, 'dining room':4, 'common room 2':5, 'common room 3':5, 'common room 1':5, 'common room 4':5, 'balcony 1':9\n",
    "            ,'balcony 2':9,'balcony 3':9, 'entrance':10, 'storage':11, 'bathroom': 3, 'balcony': 9, 'common room': 5, 'master room 2': 1, 'master room 1': 1, 'kitchen 1': 2, 'kitchen 2': 2,'master room 3': 1, 'storage room':11}\n",
    "\n",
    "color_idx = {15:(255,165,0),16:(255,165,0),17:(240,128,128),18:(240,128,128),0:(170,232,238),1:(0,165,255),5:(0,215,255),6:(255,215,0),7:(255,215,0),8:(255,215,0),2:(128,128,240),3:(230,216,173),4:(218,112,214),9:(35,142,107),10:(255,255,0),11:(221,160,221),12:(173,216,230),13:(107,142,35),14:(255,215,0),19:(255,165,0)}     \n",
    "\n",
    "def render_image(example,predicted_boxes,all_gt_rooms,gt_boxes,output_dir):\n",
    "    image_height = 256\n",
    "    image_width = 256\n",
    "    number_of_color_channels = 3\n",
    "    background_color = (255,255,255)\n",
    "    gt_image = np.full((image_height, image_width, number_of_color_channels), background_color, dtype=np.uint8)\n",
    "    predicted_image = np.full((image_height, image_width, number_of_color_channels), background_color, dtype=np.uint8)\n",
    "    boundary_color = [0,0,0]\n",
    "\n",
    "\n",
    "    left_boundary = int(example.boundary_tokens[0]['x_min'])\n",
    "    # # draw compass\n",
    "    # start_point = [240, 40]\n",
    "    # end_point = [240, 20]\n",
    "    # thickness = 2\n",
    "    # cv2.arrowedLine(predicted_image, start_point, end_point,\n",
    "    #                             boundary_color, thickness,tipLength=0.35)\n",
    "    # cv2.putText(predicted_image,\"N\",(230,35),0,0.3,(0,0,0))\n",
    "\n",
    "    # # draw measure\n",
    "    # start_point = [left_boundary, 245]\n",
    "    # end_point = [left_boundary+40, 245]\n",
    "    # cv2.line(predicted_image, start_point, end_point, boundary_color, thickness)\n",
    "\n",
    "    # start_point = [left_boundary, 245]\n",
    "    # end_point = [left_boundary, 240]\n",
    "    # cv2.line(predicted_image, start_point, end_point, boundary_color, thickness)\n",
    "\n",
    "    # start_point = [left_boundary+40, 245]\n",
    "    # end_point = [left_boundary+40, 240]\n",
    "    # cv2.line(predicted_image, start_point, end_point, boundary_color, thickness)\n",
    "    # cv2.putText(predicted_image,\"10feet\",(left_boundary,235),0,0.3,(0,0,0))\n",
    "    \n",
    "\n",
    "\n",
    "    # draw boundary\n",
    "    for boundary_pixel in example.boundary:\n",
    "        gt_image[boundary_pixel[0],boundary_pixel[1]] = boundary_color\n",
    "        predicted_image[boundary_pixel[0],boundary_pixel[1]] = boundary_color\n",
    "\n",
    "\n",
    "    for room in predicted_boxes:\n",
    "        if room in all_gt_rooms:\n",
    "            left_top_pr = (predicted_boxes[room][0],predicted_boxes[room][1])\n",
    "            right_bt_pr = (predicted_boxes[room][2],predicted_boxes[room][3])\n",
    "            left_top_gt = (gt_boxes[room][0],gt_boxes[room][1])\n",
    "            right_bt_gt = (gt_boxes[room][2],gt_boxes[room][3])\n",
    "\n",
    "            color = color_idx[room_idx[room]]\n",
    "            # draw room on ground truth image\n",
    "            cv2.rectangle(gt_image, left_top_gt, right_bt_gt, color,2)\n",
    "            #cv2.putText(gt_image,str(room),(left_top_gt[0]+5,left_top_gt[1]+10),0,0.3,color)\n",
    "            # draw room on predicted image\n",
    "            cv2.rectangle(predicted_image, left_top_pr, right_bt_pr, color,2)\n",
    "            #cv2.putText(predicted_image,str(room),(left_top_pr[0]+5,left_top_pr[1]+10),0,0.3,color)\n",
    "\n",
    "        else:\n",
    "            left_top_pr = (predicted_boxes[room][0],predicted_boxes[room][1])\n",
    "            right_bt_pr = (predicted_boxes[room][2],predicted_boxes[room][3])\n",
    "\n",
    "            color = color = color_idx[room_idx[room]] \n",
    "            # draw room on predicted image\n",
    "            cv2.rectangle(predicted_image, left_top_pr, right_bt_pr, color,2)\n",
    "            #cv2.putText(predicted_image,str(room),(left_top_pr[0]+5,left_top_pr[1]+10),0,0.3,color)\n",
    "    \n",
    "    for room in all_gt_rooms:\n",
    "        if room not in predicted_boxes:\n",
    "            left_top_gt = (gt_boxes[room][0],gt_boxes[room][1])\n",
    "            right_bt_gt = (gt_boxes[room][2],gt_boxes[room][3])\n",
    "            color = color = color = color_idx[room_idx[room]]  # randomize a color for one specific room\n",
    "            # draw room on ground truth image\n",
    "            cv2.rectangle(gt_image, left_top_gt, right_bt_gt, color,2)\n",
    "            #cv2.putText(gt_image,str(room),(left_top_gt[0]+5,left_top_gt[1]+10),0,0.3,color)\n",
    "    \n",
    "    cv2.putText(predicted_image,\"human\",(10,10),0,0.3,boundary_color)\n",
    "    cv2.putText(gt_image,\"ground truth\",(10,10),0,0.3,boundary_color)\n",
    "\n",
    "    im_h = cv2.hconcat([gt_image, predicted_image])\n",
    "    # cv2.imshow('image',im_h)\n",
    "    # cv2.waitKey()\n",
    "    # cv2.destroyAllWindows()\n",
    "    # cv2.imwrite(f'{output_dir}output_images/{example.image_id}.png', im_h)\n",
    "    cv2.imwrite(f'./{example.image_id}.png', im_h)\n"
   ]
  },
  {
   "cell_type": "code",
   "execution_count": 14,
   "metadata": {},
   "outputs": [],
   "source": [
    "from shapely.geometry import box\n",
    "from shapely.ops import unary_union\n",
    "def calculate_iou(gt_boxes, predicted_boxes):\n",
    "    # group by same room type\n",
    "    gt_group = defaultdict()\n",
    "    for gt_b in gt_boxes.keys():\n",
    "        if gt_b not in gt_group:\n",
    "            gt_group[gt_b.split()[0]] = [gt_b]\n",
    "        else:\n",
    "            gt_group[gt_b.split()[0]].append(gt_b)\n",
    "    pre_group = defaultdict()\n",
    "    for gt_b in predicted_boxes.keys():\n",
    "        if gt_b not in pre_group:\n",
    "            pre_group[gt_b.split()[0]] = [gt_b]\n",
    "        else:\n",
    "            pre_group[gt_b.split()[0]].append(gt_b)\n",
    "    # ymin, xmin, ymax, xmax = box\n",
    "\n",
    "    # macro average IoU\n",
    "    union = 0\n",
    "    intersection = 0\n",
    "    gt_group1 = gt_group.copy()\n",
    "    for group in pre_group.keys():\n",
    "        if group in gt_group1.keys():\n",
    "            \n",
    "            group1 = pre_group[group]\n",
    "            g1_boxes = []\n",
    "            for r1 in group1:\n",
    "                g1_boxes.append(box( predicted_boxes[r1][0],predicted_boxes[r1][1],predicted_boxes[r1][2],predicted_boxes[r1][3] ))\n",
    "\n",
    "            group2 = gt_group1[group]\n",
    "            g2_boxes = []\n",
    "            for r2 in group2:\n",
    "                g2_boxes.append(box( gt_boxes[r2][0],gt_boxes[r2][1],gt_boxes[r2][2],gt_boxes[r2][3] ))\n",
    "            \n",
    "            all_boxes = g1_boxes + g2_boxes\n",
    "            all_union = unary_union(all_boxes)\n",
    "            all_union_area = all_union.area\n",
    "            union += all_union_area\n",
    "\n",
    "            union1 = unary_union(g1_boxes)\n",
    "            union2 = unary_union(g2_boxes)\n",
    "            all_intersection = union1.intersection(union2)\n",
    "            all_intersection_area = all_intersection.area\n",
    "            intersection += all_intersection_area\n",
    "            gt_group1.pop(group)\n",
    "        else: # if predicted doesnt exist in ground truth\n",
    "            group1 = pre_group[group]\n",
    "            g1_boxes = []\n",
    "            for r1 in group1:\n",
    "                g1_boxes.append(box( predicted_boxes[r1][0],predicted_boxes[r1][1],predicted_boxes[r1][2],predicted_boxes[r1][3] ))\n",
    "            all_union = unary_union(g1_boxes)\n",
    "            all_union_area = all_union.area\n",
    "            all_intersection_area = 0\n",
    "            union += all_union_area\n",
    "    for group in gt_group1.keys(): # if ground truth doesnt exist in predicted\n",
    "        group2 = gt_group1[group]\n",
    "        g2_boxes = []\n",
    "        for r2 in group2:\n",
    "            g2_boxes.append(box( gt_boxes[r2][0],gt_boxes[r2][1],gt_boxes[r2][2],gt_boxes[r2][3] ))\n",
    "        all_union = unary_union(g2_boxes)\n",
    "        all_union_area = all_union.area\n",
    "        all_intersection_area = 0\n",
    "        union += all_union_area\n",
    "    if union != 0:\n",
    "        macro_average_iou = intersection/union\n",
    "    else:\n",
    "        macro_average_iou = 0\n",
    "    \n",
    "    # micro average IoU\n",
    "    num = 0\n",
    "    total_iou = 0\n",
    "    gt_group2 = gt_group.copy()\n",
    "    for group in pre_group.keys():\n",
    "        if group in gt_group2.keys():\n",
    "            \n",
    "            group1 = pre_group[group]\n",
    "            g1_boxes = []\n",
    "            for r1 in group1:\n",
    "                g1_boxes.append(box( predicted_boxes[r1][0],predicted_boxes[r1][1],predicted_boxes[r1][2],predicted_boxes[r1][3] ))\n",
    "\n",
    "            group2 = gt_group2[group]\n",
    "            g2_boxes = []\n",
    "            for r2 in group2:\n",
    "                g2_boxes.append(box( gt_boxes[r2][0],gt_boxes[r2][1],gt_boxes[r2][2],gt_boxes[r2][3] ))\n",
    "            \n",
    "            all_boxes = g1_boxes + g2_boxes\n",
    "            all_union = unary_union(all_boxes)\n",
    "            all_union_area = all_union.area\n",
    "            #union += all_union_area\n",
    "\n",
    "            union1 = unary_union(g1_boxes)\n",
    "            union2 = unary_union(g2_boxes)\n",
    "            all_intersection = union1.intersection(union2)\n",
    "            all_intersection_area = all_intersection.area\n",
    "            #intersection += all_intersection_area\n",
    "            total_iou += all_intersection_area/all_union_area\n",
    "            num += 1\n",
    "            gt_group2.pop(group)\n",
    "        else: # if predicted doesnt exist in ground truth\n",
    "            num += 1\n",
    "    for group in gt_group2.keys(): # if ground truth doesnt exist in predicted\n",
    "        num += 1\n",
    "    if num != 0:\n",
    "        micro_average_iou = total_iou/num\n",
    "    else:\n",
    "        micro_average_iou = 0\n",
    "    \n",
    "    return macro_average_iou, micro_average_iou"
   ]
  },
  {
   "cell_type": "code",
   "execution_count": 15,
   "metadata": {},
   "outputs": [],
   "source": [
    "macro_average_iou, micro_average_iou = calculate_iou(gt_boxes, pred_boxes)"
   ]
  },
  {
   "cell_type": "code",
   "execution_count": 16,
   "metadata": {},
   "outputs": [
    {
     "name": "stdout",
     "output_type": "stream",
     "text": [
      "0.22276839780579896\n"
     ]
    }
   ],
   "source": [
    "print(macro_average_iou)"
   ]
  },
  {
   "cell_type": "code",
   "execution_count": 18,
   "metadata": {},
   "outputs": [],
   "source": [
    "import json\n",
    "  \n",
    "f = open('floorplan_eval.json')\n",
    "\n",
    "data = json.load(f)"
   ]
  },
  {
   "cell_type": "code",
   "execution_count": 10,
   "metadata": {},
   "outputs": [],
   "source": [
    "class Example:\n",
    "    def __init__(self, image_id, boundary,boundary_tokens, rooms):\n",
    "        self.image_id = image_id\n",
    "        self.boundary = boundary\n",
    "        self.rooms = rooms\n",
    "        self.boundary_tokens = boundary_tokens"
   ]
  },
  {
   "cell_type": "code",
   "execution_count": 20,
   "metadata": {},
   "outputs": [],
   "source": [
    "for d in data:\n",
    "    if d['img_id'] == '3908':\n",
    "        boundary = d['boundary']\n",
    "        rooms = d['rooms']\n",
    "        boundary_tokens = d['boundary_boxs']\n",
    "        example = Example('3908', boundary,boundary_tokens, rooms)"
   ]
  },
  {
   "cell_type": "code",
   "execution_count": 25,
   "metadata": {},
   "outputs": [
    {
     "name": "stdout",
     "output_type": "stream",
     "text": [
      "defaultdict(None, {'5': (55, 70, 99, 114), '1': (43, 150, 110, 194), '6': (140, 40, 154, 75), '2': (92, 81, 136, 102), '3': (51, 121, 82, 146), '0': (66, 89, 202, 187)})\n"
     ]
    }
   ],
   "source": [
    "print(gt_boxes)"
   ]
  },
  {
   "cell_type": "code",
   "execution_count": 34,
   "metadata": {},
   "outputs": [],
   "source": [
    "render_image(example, pred_boxes,gt_boxes,gt_boxes,'./')"
   ]
  },
  {
   "cell_type": "code",
   "execution_count": null,
   "metadata": {},
   "outputs": [],
   "source": []
  },
  {
   "cell_type": "code",
   "execution_count": 12,
   "metadata": {},
   "outputs": [
    {
     "data": {
      "text/plain": [
       "2308"
      ]
     },
     "execution_count": 12,
     "metadata": {},
     "output_type": "execute_result"
    }
   ],
   "source": [
    "len(eval_image_id)"
   ]
  },
  {
   "cell_type": "code",
   "execution_count": 6,
   "metadata": {},
   "outputs": [],
   "source": [
    "from glob import glob\n",
    "f = []\n",
    "sub_dirs = glob(\"./data/T2D/gen_masks_2022_12_12_21_18_15/*/\", recursive = True)\n",
    "for i in range(len(sub_dirs)):\n",
    "    f.append(sub_dirs[i].split('/')[-2])\n",
    "len(f)\n",
    "eval_image_id = []\n",
    "\n",
    "for eval_file in f:\n",
    "    eval_image_id.append(eval_file.split('id')[-1])\n",
    "len(eval_image_id)\n",
    "from collections import defaultdict"
   ]
  },
  {
   "cell_type": "code",
   "execution_count": 14,
   "metadata": {},
   "outputs": [
    {
     "ename": "NameError",
     "evalue": "name 'all_data_dict' is not defined",
     "output_type": "error",
     "traceback": [
      "\u001b[0;31m---------------------------------------------------------------------------\u001b[0m",
      "\u001b[0;31mNameError\u001b[0m                                 Traceback (most recent call last)",
      "\u001b[0;32m/tmp/ipykernel_48779/717276366.py\u001b[0m in \u001b[0;36m<module>\u001b[0;34m\u001b[0m\n\u001b[1;32m      1\u001b[0m \u001b[0;31m# generate gt labels\u001b[0m\u001b[0;34m\u001b[0m\u001b[0;34m\u001b[0m\u001b[0;34m\u001b[0m\u001b[0m\n\u001b[1;32m      2\u001b[0m \u001b[0;32mfor\u001b[0m \u001b[0mid\u001b[0m \u001b[0;32min\u001b[0m \u001b[0meval_image_id\u001b[0m\u001b[0;34m:\u001b[0m\u001b[0;34m\u001b[0m\u001b[0;34m\u001b[0m\u001b[0m\n\u001b[0;32m----> 3\u001b[0;31m     \u001b[0mfp\u001b[0m \u001b[0;34m=\u001b[0m \u001b[0mall_data_dict\u001b[0m\u001b[0;34m[\u001b[0m\u001b[0mid\u001b[0m\u001b[0;34m]\u001b[0m\u001b[0;34m\u001b[0m\u001b[0;34m\u001b[0m\u001b[0m\n\u001b[0m\u001b[1;32m      4\u001b[0m     \u001b[0;32mif\u001b[0m \u001b[0;32mnot\u001b[0m \u001b[0mos\u001b[0m\u001b[0;34m.\u001b[0m\u001b[0mpath\u001b[0m\u001b[0;34m.\u001b[0m\u001b[0mexists\u001b[0m\u001b[0;34m(\u001b[0m\u001b[0;34m'gt_boxes/image_id%s'\u001b[0m\u001b[0;34m%\u001b[0m\u001b[0;34m(\u001b[0m\u001b[0mid\u001b[0m\u001b[0;34m)\u001b[0m\u001b[0;34m)\u001b[0m\u001b[0;34m:\u001b[0m\u001b[0;34m\u001b[0m\u001b[0;34m\u001b[0m\u001b[0m\n\u001b[1;32m      5\u001b[0m         \u001b[0mos\u001b[0m\u001b[0;34m.\u001b[0m\u001b[0mmakedirs\u001b[0m\u001b[0;34m(\u001b[0m\u001b[0;34m'gt_boxes/image_id%s'\u001b[0m\u001b[0;34m%\u001b[0m\u001b[0;34m(\u001b[0m\u001b[0mid\u001b[0m\u001b[0;34m)\u001b[0m\u001b[0;34m)\u001b[0m\u001b[0;34m\u001b[0m\u001b[0;34m\u001b[0m\u001b[0m\n",
      "\u001b[0;31mNameError\u001b[0m: name 'all_data_dict' is not defined"
     ]
    }
   ],
   "source": [
    "# generate gt labels\n",
    "for id in eval_image_id:\n",
    "    fp = all_data_dict[id]\n",
    "    if not os.path.exists('gt_boxes/image_id%s'%(id)):\n",
    "        os.makedirs('gt_boxes/image_id%s'%(id))\n",
    "    fout_filename = open('gt_boxes/image_id%s/boxes.txt'%(id), 'w')\n",
    "    for i in range(len(fp)):\n",
    "        # print(fp[i])\n",
    "        room_type = fp[i]['room_type']\n",
    "        m = re.search(r'\\d+$', room_type)\n",
    "        if m is not None:\n",
    "            room_type = \" \".join(room_type.split(\" \")[:-1])\n",
    "        r_idx = idx_room[room_type]\n",
    "        # xmin ymin w h\n",
    "        x = fp[i]['x']\n",
    "        y = fp[i]['y']\n",
    "        w = fp[i]['w']\n",
    "        h = fp[i]['h']\n",
    "        xmin = x - w/2.0\n",
    "        ymin = y - h/2.0\n",
    "        fout_filename.write('%.2f,%.2f,%.2f,%.2f,%s,0\\n'%(xmin, ymin, w, h, r_idx))"
   ]
  },
  {
   "cell_type": "code",
   "execution_count": 60,
   "metadata": {},
   "outputs": [],
   "source": [
    "import json\n",
    "  \n",
    "f = open('floorplan_eval.json')\n",
    "\n",
    "data_ = json.load(f)"
   ]
  },
  {
   "cell_type": "code",
   "execution_count": 33,
   "metadata": {},
   "outputs": [],
   "source": [
    "room_idx = {0:'living room', 1:'master room', 2:'kitchen', 3:'bathroom', 4:'dining room', 5:'common room', 6:'balcony'\n",
    "            , 7:'entrance', 8:'storage'}"
   ]
  },
  {
   "cell_type": "code",
   "execution_count": 68,
   "metadata": {},
   "outputs": [],
   "source": [
    "def cal_iou_all_(predicted_path):\n",
    "    sum_macro_iou = 0\n",
    "    sum_micro_iou = 0\n",
    "    counts = 0\n",
    "    for img_id in eval_image_id:\n",
    "        # load ground truth boxes\n",
    "        with open(f'./gt_boxes/image_id{img_id}/boxes.txt') as f:\n",
    "            lines = f.readlines()\n",
    "            gt_boxes = defaultdict()\n",
    "            for line in lines:\n",
    "                res = line.split(\",\")[:-1]\n",
    "                xmin = int(float(res[0]))\n",
    "                ymin = int(float(res[1]))\n",
    "                ymax = int(ymin+float(res[2]))\n",
    "                xmax = int(xmin+float(res[3]))\n",
    "                room = room_idx[int(res[4])]\n",
    "                # gt_box = [  \n",
    "                #     [int(xmin),int(ymin)],[int(xmin+w),int(ymin)],\n",
    "                #     [int(xmin),int(ymin+h)],[int(xmin+w),int(ymin+h)]\n",
    "                # ]\n",
    "                gt_boxes[room] = (int(ymin), int(xmin), int(ymax), int(xmax))\n",
    "                if room in gt_boxes:\n",
    "                    if room+' 1' not in gt_boxes:\n",
    "                        gt_boxes[room+' 1'] = (ymin, xmin, ymax, xmax)\n",
    "                    else:\n",
    "                        if room+' 2' not in gt_boxes:\n",
    "                            gt_boxes[room+' 2'] = (ymin, xmin, ymax, xmax)\n",
    "                        else:\n",
    "                            if room+' 3' not in gt_boxes:\n",
    "                                gt_boxes[room+' 3'] = (ymin, xmin, ymax, xmax)\n",
    "                            else:\n",
    "                                if room+' 4' not in gt_boxes:\n",
    "                                    gt_boxes[room+' 4'] = (ymin, xmin, ymax, xmax)\n",
    "                else:\n",
    "                    gt_boxes[room] = (ymin, xmin, ymax, xmax)\n",
    "        f.close()\n",
    "        # load predicted boxes, predicted_path = gen_masks_2022_11_11_17_23_49\n",
    "        with open(f'./data/T2D/{predicted_path}/image_id{img_id}/0/boxes.txt') as f:\n",
    "            lines = f.readlines()\n",
    "            pred_boxes = defaultdict()\n",
    "            for line in lines:\n",
    "                res = line.split(\",\")[:-1]\n",
    "                xmin = int(float(res[0]))\n",
    "                ymin = int(float(res[1]))\n",
    "                ymax = int(ymin+float(res[2]))\n",
    "                xmax = int(xmin+float(res[3]))\n",
    "                room = room_idx[int(res[4])]\n",
    "                # gt_box = [  \n",
    "                #     [int(xmin),int(ymin)],[int(xmin+w),int(ymin)],\n",
    "                #     [int(xmin),int(ymin+h)],[int(xmin+w),int(ymin+h)]\n",
    "                # ]\n",
    "                pred_boxes[room] = (int(ymin), int(xmin), int(ymax), int(xmax))\n",
    "                if room in pred_boxes:\n",
    "                    if room+' 1' not in pred_boxes:\n",
    "                        pred_boxes[room+' 1'] = (ymin, xmin, ymax, xmax)\n",
    "                    else:\n",
    "                        if room+' 2' not in pred_boxes:\n",
    "                            pred_boxes[room+' 2'] = (ymin, xmin, ymax, xmax)\n",
    "                        else:\n",
    "                            if room+' 3' not in pred_boxes:\n",
    "                                pred_boxes[room+' 3'] = (ymin, xmin, ymax, xmax)\n",
    "                            else:\n",
    "                                if room+' 4' not in pred_boxes:\n",
    "                                    pred_boxes[room+' 4'] = (ymin, xmin, ymax, xmax)\n",
    "                else:\n",
    "                    pred_boxes[room] = (ymin, xmin, ymax, xmax)\n",
    "        f.close()\n",
    "        for d in data_:\n",
    "            if d['img_id'].split('.')[0] == img_id:\n",
    "                boundary = d['boundary']\n",
    "                rooms = d['rooms']\n",
    "                boundary_tokens = d['boundary_boxs']\n",
    "                example = Example(img_id, boundary,boundary_tokens, rooms)\n",
    "        render_image_(example,pred_boxes,gt_boxes,gt_boxes,'draw_arti_only')\n",
    "    return\n",
    "    #     macro_average_iou, micro_average_iou = calculate_iou(gt_boxes, pred_boxes)\n",
    "    #     sum_macro_iou += macro_average_iou\n",
    "    #     sum_micro_iou += micro_average_iou\n",
    "    #     counts += 1\n",
    "    # avg_macro = sum_macro_iou/counts\n",
    "    # avg_micro = sum_micro_iou/counts\n",
    "    # return avg_macro, avg_micro"
   ]
  },
  {
   "cell_type": "code",
   "execution_count": 69,
   "metadata": {},
   "outputs": [],
   "source": [
    "cal_iou_all_('gen_masks_2022_12_01_17_05_59')"
   ]
  },
  {
   "cell_type": "code",
   "execution_count": 5,
   "metadata": {},
   "outputs": [
    {
     "data": {
      "text/plain": [
       "(0.19299291610378763, 0.10903618736042409)"
      ]
     },
     "execution_count": 5,
     "metadata": {},
     "output_type": "execute_result"
    }
   ],
   "source": [
    "cal_iou_all('gen_masks_2022_12_06_03_02_59')"
   ]
  },
  {
   "cell_type": "code",
   "execution_count": null,
   "metadata": {},
   "outputs": [],
   "source": []
  }
 ],
 "metadata": {
  "kernelspec": {
   "display_name": "Python 3.7.15 ('apex')",
   "language": "python",
   "name": "python3"
  },
  "language_info": {
   "codemirror_mode": {
    "name": "ipython",
    "version": 3
   },
   "file_extension": ".py",
   "mimetype": "text/x-python",
   "name": "python",
   "nbconvert_exporter": "python",
   "pygments_lexer": "ipython3",
   "version": "3.7.15"
  },
  "orig_nbformat": 4,
  "vscode": {
   "interpreter": {
    "hash": "d6781b4406bf3e0776b57b4bd7f389d531766a5a8e8ad506f35f7cbc1e475358"
   }
  }
 },
 "nbformat": 4,
 "nbformat_minor": 2
}
