{
 "cells": [
  {
   "cell_type": "code",
   "execution_count": 1,
   "metadata": {},
   "outputs": [],
   "source": [
    "import os"
   ]
  },
  {
   "cell_type": "code",
   "execution_count": 2,
   "metadata": {},
   "outputs": [],
   "source": [
    "a = [x[2] for x in os.walk(\"./dataset/imgs/\")]"
   ]
  },
  {
   "cell_type": "code",
   "execution_count": 3,
   "metadata": {},
   "outputs": [],
   "source": [
    "a = a[0]"
   ]
  },
  {
   "cell_type": "code",
   "execution_count": 4,
   "metadata": {},
   "outputs": [],
   "source": [
    "b = [x[2] for x in os.walk(\"/home/sicong/imagen-sicong/outputs/unet1_cond3.0_sample512_start256_lr1e-5_dim256_nofp16/eval_samples\")]"
   ]
  },
  {
   "cell_type": "code",
   "execution_count": 5,
   "metadata": {},
   "outputs": [],
   "source": [
    "b = b[0]"
   ]
  },
  {
   "cell_type": "code",
   "execution_count": 6,
   "metadata": {},
   "outputs": [
    {
     "data": {
      "text/plain": [
       "80788"
      ]
     },
     "execution_count": 6,
     "metadata": {},
     "output_type": "execute_result"
    }
   ],
   "source": [
    "len(a)"
   ]
  },
  {
   "cell_type": "code",
   "execution_count": 7,
   "metadata": {},
   "outputs": [
    {
     "data": {
      "text/plain": [
       "814"
      ]
     },
     "execution_count": 7,
     "metadata": {},
     "output_type": "execute_result"
    }
   ],
   "source": [
    "len(b)"
   ]
  },
  {
   "cell_type": "code",
   "execution_count": 8,
   "metadata": {},
   "outputs": [],
   "source": [
    "for pre_img in b:\n",
    "    assert pre_img.split(\"_\")[-1] in a"
   ]
  },
  {
   "cell_type": "code",
   "execution_count": 9,
   "metadata": {},
   "outputs": [
    {
     "data": {
      "text/plain": [
       "'eval_6282.png'"
      ]
     },
     "execution_count": 9,
     "metadata": {},
     "output_type": "execute_result"
    }
   ],
   "source": [
    "b[0]"
   ]
  },
  {
   "cell_type": "code",
   "execution_count": 10,
   "metadata": {},
   "outputs": [],
   "source": [
    "import cv2\n",
    "##TODO: 1.cluster predicted images' pixel values to certain pre-defined values\n",
    "# read one image as an example\n",
    "gt_image = cv2.imread(os.path.join(\"./dataset/imgs/\",\"6282.png\"))\n",
    "pred_image = cv2.imread(os.path.join(\"/home/sicong/imagen-sicong/outputs/unet1_cond3.0_sample512_start256_lr1e-5_dim256_nofp16/eval_samples\",\"eval_6282.png\"))\n"
   ]
  },
  {
   "cell_type": "code",
   "execution_count": 11,
   "metadata": {},
   "outputs": [
    {
     "data": {
      "text/plain": [
       "array([227, 236, 240], dtype=uint8)"
      ]
     },
     "execution_count": 11,
     "metadata": {},
     "output_type": "execute_result"
    }
   ],
   "source": [
    "pred_image[0,1]"
   ]
  },
  {
   "cell_type": "code",
   "execution_count": 12,
   "metadata": {},
   "outputs": [],
   "source": [
    "from tqdm import tqdm"
   ]
  },
  {
   "cell_type": "code",
   "execution_count": 13,
   "metadata": {},
   "outputs": [
    {
     "name": "stderr",
     "output_type": "stream",
     "text": [
      "100%|██████████| 80788/80788 [00:48<00:00, 1650.23it/s]\n"
     ]
    }
   ],
   "source": [
    "gt_images = [cv2.imread(os.path.join(\"./dataset/imgs/\",gt_img)) for gt_img in tqdm(a)]"
   ]
  },
  {
   "cell_type": "code",
   "execution_count": 15,
   "metadata": {},
   "outputs": [
    {
     "data": {
      "text/plain": [
       "{'255,255,255': [255, 255, 255],\n",
       " '0,0,0': [0, 0, 0],\n",
       " '0,0,255': [0, 0, 255],\n",
       " '170,232,238': [170, 232, 238],\n",
       " '128,128,240': [128, 128, 240],\n",
       " '230,216,173': [230, 216, 173],\n",
       " '0,215,255': [0, 215, 255],\n",
       " '0,165,255': [0, 165, 255],\n",
       " '35,142,107': [35, 142, 107],\n",
       " '221,160,221': [221, 160, 221],\n",
       " '0,255,255': [0, 255, 255],\n",
       " '214,112,218': [214, 112, 218]}"
      ]
     },
     "execution_count": 15,
     "metadata": {},
     "output_type": "execute_result"
    }
   ],
   "source": [
    "last_5k_type = ['255,255,255', '0,0,0', '0,0,255', '170,232,238', '128,128,240', '230,216,173', '0,215,255', '0,165,255', '35,142,107', '221,160,221', '0,255,255', '214,112,218']\n",
    "last_dict = dict.fromkeys(last_5k_type)\n",
    "for key in last_dict.keys():\n",
    "    last_dict[key] = [int(val) for val in key.split(',')]\n",
    "last_dict"
   ]
  },
  {
   "cell_type": "code",
   "execution_count": 16,
   "metadata": {},
   "outputs": [],
   "source": [
    "from scipy.spatial import distance\n",
    "import numpy as np\n",
    "new_image = np.zeros((256,256,3))\n",
    "keys = list(last_dict.keys())\n",
    "for i in range(256):\n",
    "    for j in range(256):\n",
    "        pred_value = list(pred_image[i,j])\n",
    "        distances = [distance.euclidean(pred_value, last_dict[key]) for key in keys]\n",
    "        key_idx = distances.index(min(distances))\n",
    "        new_image[i,j] = np.array(last_dict[keys[key_idx]],dtype=np.uint8)"
   ]
  },
  {
   "cell_type": "code",
   "execution_count": 17,
   "metadata": {},
   "outputs": [
    {
     "data": {
      "text/plain": [
       "True"
      ]
     },
     "execution_count": 17,
     "metadata": {},
     "output_type": "execute_result"
    }
   ],
   "source": [
    "cv2.imwrite('new_img.png', new_image)"
   ]
  },
  {
   "cell_type": "code",
   "execution_count": 104,
   "metadata": {},
   "outputs": [],
   "source": [
    "##TODO: 2.generate room masks according to the refined images\n",
    "def generate_mask(new_image, last_dict):\n",
    "    dict_pred_mask = dict.fromkeys(last_dict.keys())\n",
    "    for key in dict_pred_mask.keys():\n",
    "        dict_pred_mask[key] = np.zeros((256,256))\n",
    "\n",
    "    for key in dict_pred_mask.keys():\n",
    "        for i in range(256):\n",
    "            for j in range(256):\n",
    "                if new_image[i,j,0] == last_dict[key][0] and new_image[i,j,1] == last_dict[key][1] and new_image[i,j,2] == last_dict[key][2]:\n",
    "                    dict_pred_mask[key][i,j] = 1\n",
    "    return dict_pred_mask"
   ]
  },
  {
   "cell_type": "code",
   "execution_count": 105,
   "metadata": {},
   "outputs": [],
   "source": [
    "dict_pred_mask = generate_mask(new_image, last_dict)"
   ]
  },
  {
   "cell_type": "code",
   "execution_count": 106,
   "metadata": {},
   "outputs": [],
   "source": [
    "dict_gt_mask = generate_mask(gt_image, last_dict)"
   ]
  },
  {
   "cell_type": "code",
   "execution_count": 138,
   "metadata": {},
   "outputs": [
    {
     "data": {
      "text/plain": [
       "<matplotlib.image.AxesImage at 0x7f42066bd4d0>"
      ]
     },
     "execution_count": 138,
     "metadata": {},
     "output_type": "execute_result"
    },
    {
     "data": {
      "image/png": "[encoded data removed]",
      "text/plain": [
       "<Figure size 640x480 with 1 Axes>"
      ]
     },
     "metadata": {},
     "output_type": "display_data"
    }
   ],
   "source": [
    "import matplotlib.pyplot as plt\n",
    "plt.imshow(dict_gt_mask['214,112,218'])"
   ]
  },
  {
   "cell_type": "code",
   "execution_count": 108,
   "metadata": {},
   "outputs": [],
   "source": [
    "def generate_one_dim_mask(dict_pred_mask):\n",
    "    rooms = {'170,232,238':1, '128,128,240':2, '230,216,173':3, '0,215,255':4, '0,165,255':5, '35,142,107':6, '221,160,221':7, '0,255,255':8, '214,112,218':9}\n",
    "    rooms_ = [np.array(room) for room in rooms]\n",
    "    one_dim_pred_mask = np.zeros((256,256))\n",
    "    for room in rooms:\n",
    "        one_dim_pred_mask += rooms[room]*dict_pred_mask[room]\n",
    "    return one_dim_pred_mask"
   ]
  },
  {
   "cell_type": "code",
   "execution_count": 110,
   "metadata": {},
   "outputs": [],
   "source": [
    "one_dim_pred_mask = generate_one_dim_mask(dict_pred_mask)\n",
    "one_dim_gt_mask = generate_one_dim_mask(dict_gt_mask)"
   ]
  },
  {
   "cell_type": "code",
   "execution_count": 90,
   "metadata": {},
   "outputs": [],
   "source": [
    "rooms = ['170,232,238', '128,128,240', '230,216,173', '0,215,255', '0,165,255', '35,142,107', '221,160,221', '0,255,255', '214,112,218']"
   ]
  },
  {
   "cell_type": "code",
   "execution_count": 146,
   "metadata": {},
   "outputs": [],
   "source": [
    "##TODO: 3.find the central point that can maximize the IoU\n",
    "import warnings\n",
    "from sklearn.metrics import jaccard_score\n",
    "from collections import defaultdict\n",
    "warnings.filterwarnings(\"ignore\")\n",
    "rang = 50\n",
    "o_ranges = [i for i in range(0,rang,2)] + [-i for i in range(0,rang,2)]\n",
    "IoUs = defaultdict()\n",
    "for ox in o_ranges:\n",
    "    for oy in o_ranges:\n",
    "        IoUs[(ox,oy)] = np.average(jaccard_score(np.roll(np.roll(one_dim_gt_mask, ox, -1), oy, -2).flatten(), one_dim_pred_mask.flatten(), average=None)[1:])\n",
    "    # print(sum(jaccard_score(one_dim_gt_mask.flatten(), one_dim_pred_mask.flatten(), average=None)[1:]))\n",
    "max_key = max(IoUs, key=IoUs.get)\n"
   ]
  },
  {
   "cell_type": "code",
   "execution_count": 147,
   "metadata": {},
   "outputs": [
    {
     "name": "stdout",
     "output_type": "stream",
     "text": [
      "(-49, 24) 0.12116341008873803\n"
     ]
    }
   ],
   "source": [
    "print(max_key,IoUs[max_key])"
   ]
  },
  {
   "cell_type": "code",
   "execution_count": 149,
   "metadata": {},
   "outputs": [
    {
     "name": "stdout",
     "output_type": "stream",
     "text": [
      "0.07603638841971139 0.14539609210648563\n"
     ]
    }
   ],
   "source": [
    "##TODO: 4.calculate the IoU\n",
    "rooms, dict_gt_mask, dict_pred_mask, max_key\n",
    "intersection_union = defaultdict()\n",
    "existed_rooms = []\n",
    "for room in rooms:\n",
    "    if jaccard_score(dict_gt_mask[room].flatten(), dict_gt_mask[room].flatten()) == 1.: # if the room type does not exist in the image\n",
    "        existed_rooms.append(room)\n",
    "        pred_room_mask = dict_pred_mask[room]\n",
    "        gt_room_mask = dict_gt_mask[room]\n",
    "        shift_gt_room_mask = np.roll(np.roll(gt_room_mask, max_key[0], -1), max_key[1], -2)\n",
    "        inter = np.sum(np.logical_and(pred_room_mask, shift_gt_room_mask))\n",
    "        union = np.sum(np.logical_or(pred_room_mask, shift_gt_room_mask))\n",
    "        intersection_union[room] = (inter,union)\n",
    "\n",
    "macro_iou = np.sum([intersection_union[room][0] for room in existed_rooms])/np.sum([intersection_union[room][1] for room in existed_rooms])\n",
    "micro_iou = np.average([intersection_union[room][0]/intersection_union[room][1] for room in existed_rooms])\n",
    "print(macro_iou, micro_iou)"
   ]
  },
  {
   "cell_type": "code",
   "execution_count": null,
   "metadata": {},
   "outputs": [],
   "source": []
  }
 ],
 "metadata": {
  "kernelspec": {
   "display_name": "Python 3.7.15 ('apex')",
   "language": "python",
   "name": "python3"
  },
  "language_info": {
   "codemirror_mode": {
    "name": "ipython",
    "version": 3
   },
   "file_extension": ".py",
   "mimetype": "text/x-python",
   "name": "python",
   "nbconvert_exporter": "python",
   "pygments_lexer": "ipython3",
   "version": "3.7.15"
  },
  "orig_nbformat": 4,
  "vscode": {
   "interpreter": {
    "hash": "d6781b4406bf3e0776b57b4bd7f389d531766a5a8e8ad506f35f7cbc1e475358"
   }
  }
 },
 "nbformat": 4,
 "nbformat_minor": 2
}
