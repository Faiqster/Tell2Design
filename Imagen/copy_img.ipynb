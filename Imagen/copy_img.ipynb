{
 "cells": [
  {
   "cell_type": "code",
   "execution_count": 2,
   "metadata": {},
   "outputs": [],
   "source": [
    "import glob\n",
    "import shutil\n",
    "import os\n",
    "import cv2\n",
    "from tqdm import tqdm"
   ]
  },
  {
   "cell_type": "code",
   "execution_count": 9,
   "metadata": {},
   "outputs": [],
   "source": [
    "dir_paths = []\n",
    "for root, dirs, files in os.walk('/home/sicong/min_max_Floorplan_Generation_Baseline/experiments/floorplan-t5-base-finetune-ep20-len512-b12-train-original-baseline/episode0/output_images/'):\n",
    "    dir_paths.extend(files)"
   ]
  },
  {
   "cell_type": "code",
   "execution_count": 10,
   "metadata": {},
   "outputs": [
    {
     "name": "stderr",
     "output_type": "stream",
     "text": [
      "100%|██████████| 2308/2308 [00:00<00:00, 13558.87it/s]\n"
     ]
    }
   ],
   "source": [
    "for img_id in tqdm(dir_paths):\n",
    "    pred_path = os.path.join(f\"/home/sicong/min_max_Floorplan_Generation_Baseline/experiments/floorplan-t5-base-finetune-ep20-len512-b12-train-original-baseline/episode0/output_images/{img_id}\")\n",
    "    try:\n",
    "        img_id = img_id.split('.')[0]\n",
    "        # img_id = img_id.split('_')[-1]\n",
    "        destination = f'/home/sicong/imagen-sicong/imgs_for_human_evaluation/{img_id}_T5.png'\n",
    "        shutil.copy(pred_path, destination)\n",
    "    except FileNotFoundError:\n",
    "        pass"
   ]
  },
  {
   "cell_type": "code",
   "execution_count": null,
   "metadata": {},
   "outputs": [],
   "source": []
  }
 ],
 "metadata": {
  "kernelspec": {
   "display_name": "apex",
   "language": "python",
   "name": "python3"
  },
  "language_info": {
   "codemirror_mode": {
    "name": "ipython",
    "version": 3
   },
   "file_extension": ".py",
   "mimetype": "text/x-python",
   "name": "python",
   "nbconvert_exporter": "python",
   "pygments_lexer": "ipython3",
   "version": "3.7.15"
  },
  "orig_nbformat": 4,
  "vscode": {
   "interpreter": {
    "hash": "d6781b4406bf3e0776b57b4bd7f389d531766a5a8e8ad506f35f7cbc1e475358"
   }
  }
 },
 "nbformat": 4,
 "nbformat_minor": 2
}
